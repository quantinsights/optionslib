{
 "cells": [
  {
   "cell_type": "code",
   "execution_count": null,
   "id": "initial_id",
   "metadata": {
    "collapsed": true
   },
   "outputs": [],
   "source": [
    "import numpy as np\n",
    "import matplotlib.pyplot as plt\n",
    "from scipy.integrate import quad\n",
    "\n",
    "from optionslib.math.integration import (\n",
    "    Integrator,\n",
    "    RectangleConfig,\n",
    "    MonteCarloConfig,\n",
    ")"
   ]
  },
  {
   "cell_type": "code",
   "outputs": [],
   "source": [
    "# create integrator object\n",
    "start, end = 0, np.pi / 2.0\n",
    "integrator = Integrator(\n",
    "    default_start=start,\n",
    "    default_end=end,\n",
    ")\n",
    "print(integrator)"
   ],
   "metadata": {
    "collapsed": false
   },
   "id": "871fa9a56fe56c72",
   "execution_count": null
  },
  {
   "cell_type": "code",
   "outputs": [],
   "source": [
    "# function to integrate\n",
    "f = lambda x: np.sin(x) + np.cos(x)\n",
    "x_points = np.linspace(start, end, 10_000)\n",
    "y_points = f(x_points)\n",
    "plt.plot(x_points, y_points, color=\"red\")\n",
    "plt.show()"
   ],
   "metadata": {
    "collapsed": false
   },
   "id": "9d95cd40fb2ec664",
   "execution_count": null
  },
  {
   "cell_type": "code",
   "outputs": [],
   "source": [
    "# scipy is a breeze and very accurate benchmark\n",
    "scipy_quad, err = quad(f, start, end)\n",
    "print(scipy_quad)"
   ],
   "metadata": {
    "collapsed": false
   },
   "id": "602eb5ac17b8ec09",
   "execution_count": null
  },
  {
   "cell_type": "code",
   "outputs": [],
   "source": [
    "# as visible very terrible performance\n",
    "for i in range(20):\n",
    "    area_rec = integrator(f, config=RectangleConfig(steps=2**i))\n",
    "    area_mc = integrator(f, config=MonteCarloConfig(random_points=2**i))\n",
    "    print(\n",
    "        f\"{i} | rec: {area_rec:.8f} \\t {abs(scipy_quad - area_rec):.8f} mc: {area_mc:.8f} \\t {abs(scipy_quad - area_mc):.8f}\"\n",
    "    )"
   ],
   "metadata": {
    "collapsed": false
   },
   "id": "56128fc1c1bdc64b",
   "execution_count": null
  },
  {
   "cell_type": "code",
   "outputs": [],
   "source": [],
   "metadata": {
    "collapsed": false
   },
   "id": "2f5eeed96fa62b87",
   "execution_count": null
  }
 ],
 "metadata": {
  "kernelspec": {
   "display_name": "Python 3",
   "language": "python",
   "name": "python3"
  },
  "language_info": {
   "codemirror_mode": {
    "name": "ipython",
    "version": 2
   },
   "file_extension": ".py",
   "mimetype": "text/x-python",
   "name": "python",
   "nbconvert_exporter": "python",
   "pygments_lexer": "ipython2",
   "version": "2.7.6"
  }
 },
 "nbformat": 4,
 "nbformat_minor": 5
}
