{
 "cells": [
  {
   "cell_type": "code",
   "execution_count": 12,
   "id": "initial_id",
   "metadata": {
    "collapsed": true,
    "ExecuteTime": {
     "end_time": "2024-01-20T17:01:27.646135400Z",
     "start_time": "2024-01-20T17:01:27.638632900Z"
    }
   },
   "outputs": [],
   "source": [
    "import numpy as np\n",
    "import matplotlib.pyplot as plt\n",
    "from scipy.integrate import quad\n",
    "\n",
    "from optionslib.math.integration import Integrator, RectangleConfig"
   ]
  },
  {
   "cell_type": "code",
   "outputs": [
    {
     "name": "stdout",
     "output_type": "stream",
     "text": [
      "Integrator(default_config=None, default_start=0, default_end=1.5707963267948966, _Integrator__INTEGRATION_WORKER_MAP={<class 'optionslib.math.integration.integration_schema_configs.RectangleConfig'>: <function rectangle_rule at 0x0000012E7FAEAFC0>})\n"
     ]
    }
   ],
   "source": [
    "# create integrator object\n",
    "start, end = 0, np.pi / 2.0\n",
    "integrator = Integrator(\n",
    "    default_start=start,\n",
    "    default_end=end,\n",
    ")\n",
    "print(integrator)"
   ],
   "metadata": {
    "collapsed": false,
    "ExecuteTime": {
     "end_time": "2024-01-20T17:01:27.656577300Z",
     "start_time": "2024-01-20T17:01:27.648135400Z"
    }
   },
   "id": "871fa9a56fe56c72",
   "execution_count": 13
  },
  {
   "cell_type": "code",
   "outputs": [
    {
     "data": {
      "text/plain": "<Figure size 640x480 with 1 Axes>",
      "image/png": "[encoded data removed]"
     },
     "metadata": {},
     "output_type": "display_data"
    }
   ],
   "source": [
    "# function to integrate\n",
    "f = lambda x: np.sin(x) + np.cos(x)\n",
    "x_points = np.linspace(start, end, 10_000)\n",
    "y_points = f(x_points)\n",
    "plt.plot(x_points, y_points, color=\"red\")\n",
    "plt.show()"
   ],
   "metadata": {
    "collapsed": false,
    "ExecuteTime": {
     "end_time": "2024-01-20T17:01:27.699094500Z",
     "start_time": "2024-01-20T17:01:27.650074100Z"
    }
   },
   "id": "9d95cd40fb2ec664",
   "execution_count": 14
  },
  {
   "cell_type": "code",
   "outputs": [
    {
     "name": "stdout",
     "output_type": "stream",
     "text": [
      "1.9999999999999998\n"
     ]
    }
   ],
   "source": [
    "# scipy is a breeze and very accurate benchmark\n",
    "scipy_quad, err = quad(f, start, end)\n",
    "print(scipy_quad)"
   ],
   "metadata": {
    "collapsed": false,
    "ExecuteTime": {
     "end_time": "2024-01-20T17:01:27.699094500Z",
     "start_time": "2024-01-20T17:01:27.694937400Z"
    }
   },
   "id": "602eb5ac17b8ec09",
   "execution_count": 15
  },
  {
   "cell_type": "code",
   "outputs": [
    {
     "name": "stdout",
     "output_type": "stream",
     "text": [
      "0: 1.57079633 \t 0.42920367\n",
      "1: 1.57079633 \t 0.42920367\n",
      "2: 1.85827201 \t 0.14172799\n",
      "3: 1.93899991 \t 0.06100009\n",
      "4: 1.97146098 \t 0.02853902\n",
      "5: 1.98617282 \t 0.01382718\n",
      "6: 1.99319170 \t 0.00680830\n",
      "7: 1.99662155 \t 0.00337845\n",
      "8: 1.99831712 \t 0.00168288\n",
      "9: 1.99916014 \t 0.00083986\n",
      "10: 1.99958046 \t 0.00041954\n",
      "11: 1.99979033 \t 0.00020967\n",
      "12: 1.99989519 \t 0.00010481\n",
      "13: 1.99994760 \t 0.00005240\n",
      "14: 1.99997380 \t 0.00002620\n",
      "15: 1.99998690 \t 0.00001310\n",
      "16: 1.99999345 \t 0.00000655\n",
      "17: 1.99999673 \t 0.00000327\n",
      "18: 1.99999836 \t 0.00000164\n",
      "19: 1.99999918 \t 0.00000082\n"
     ]
    }
   ],
   "source": [
    "# as visible very terrible performance\n",
    "for i in range(20):\n",
    "    area = integrator(f, config=RectangleConfig(steps=2**i))\n",
    "    print(f\"{i}: {area:.8f} \\t {abs(scipy_quad-area):.8f}\")"
   ],
   "metadata": {
    "collapsed": false,
    "ExecuteTime": {
     "end_time": "2024-01-20T17:01:27.714715900Z",
     "start_time": "2024-01-20T17:01:27.697094400Z"
    }
   },
   "id": "56128fc1c1bdc64b",
   "execution_count": 16
  },
  {
   "cell_type": "code",
   "outputs": [],
   "source": [],
   "metadata": {
    "collapsed": false,
    "ExecuteTime": {
     "end_time": "2024-01-20T17:01:27.714715900Z",
     "start_time": "2024-01-20T17:01:27.711212900Z"
    }
   },
   "id": "2f5eeed96fa62b87",
   "execution_count": 16
  }
 ],
 "metadata": {
  "kernelspec": {
   "display_name": "Python 3",
   "language": "python",
   "name": "python3"
  },
  "language_info": {
   "codemirror_mode": {
    "name": "ipython",
    "version": 2
   },
   "file_extension": ".py",
   "mimetype": "text/x-python",
   "name": "python",
   "nbconvert_exporter": "python",
   "pygments_lexer": "ipython2",
   "version": "2.7.6"
  }
 },
 "nbformat": 4,
 "nbformat_minor": 5
}
