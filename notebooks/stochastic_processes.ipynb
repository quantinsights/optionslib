{
 "cells": [
  {
   "cell_type": "code",
   "execution_count": 5,
   "id": "c2de7b1a",
   "metadata": {},
   "outputs": [
    {
     "data": {
      "text/plain": [
       "[array([ 0.        , -0.00707191, -0.0160975 , ...,  0.2035637 ,\n",
       "         0.20897041,  0.21086154]),\n",
       " array([ 0.00000000e+00, -8.31102876e-05,  1.72066990e-03, ...,\n",
       "        -2.09724492e-01, -2.04988406e-01, -1.98785670e-01]),\n",
       " array([0.        , 0.00901712, 0.00183074, ..., 0.16737861, 0.16711243,\n",
       "        0.16630151]),\n",
       " array([ 0.00000000e+00, -2.57622712e-05,  3.07289558e-03, ...,\n",
       "         1.36158980e-01,  1.41930894e-01,  1.39200117e-01]),\n",
       " array([ 0.        ,  0.00058531,  0.00293324, ..., -0.00315064,\n",
       "        -0.00162165,  0.00501897]),\n",
       " array([0.        , 0.00313635, 0.00534877, ..., 0.07055943, 0.07037331,\n",
       "        0.06921233]),\n",
       " array([ 0.        , -0.00138392, -0.00439997, ...,  0.11988277,\n",
       "         0.11656535,  0.1194883 ]),\n",
       " array([0.        , 0.00680956, 0.00838164, ..., 0.16992223, 0.17099869,\n",
       "        0.16829227]),\n",
       " array([ 0.        ,  0.00593498,  0.00841172, ..., -0.01851858,\n",
       "        -0.01468186, -0.01487877]),\n",
       " array([ 0.        , -0.0068164 , -0.00866975, ..., -0.01694812,\n",
       "        -0.02066478, -0.01687349])]"
      ]
     },
     "execution_count": 5,
     "metadata": {},
     "output_type": "execute_result"
    }
   ],
   "source": [
    "import sys\n",
    "import attrs\n",
    "from attrs import define, field\n",
    "\n",
    "sys.path.append('../.')\n",
    "from optionslib.basics.stochastic_processes import BrownianMotion1d\n",
    "\n",
    "drift=0.1\n",
    "volatility = 0.15\n",
    "x0 = 0.0\n",
    "T = 1\n",
    "bm = BrownianMotion1d(\n",
    "    drift,\n",
    "    volatility,\n",
    "    x0,\n",
    "    T\n",
    ")\n",
    "\n",
    "t = bm.times()\n",
    "paths = [bm.generate_path() for i in range(10)]\n",
    "\n",
    "\n"
   ]
  },
  {
   "cell_type": "code",
   "execution_count": null,
   "id": "4037b946",
   "metadata": {},
   "outputs": [],
   "source": []
  },
  {
   "cell_type": "code",
   "execution_count": null,
   "id": "3b46dafe",
   "metadata": {},
   "outputs": [],
   "source": []
  }
 ],
 "metadata": {
  "kernelspec": {
   "display_name": "Python 3 (ipykernel)",
   "language": "python",
   "name": "python3"
  },
  "language_info": {
   "codemirror_mode": {
    "name": "ipython",
    "version": 3
   },
   "file_extension": ".py",
   "mimetype": "text/x-python",
   "name": "python",
   "nbconvert_exporter": "python",
   "pygments_lexer": "ipython3",
   "version": "3.11.4"
  }
 },
 "nbformat": 4,
 "nbformat_minor": 5
}
